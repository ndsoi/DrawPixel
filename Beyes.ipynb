{
  "nbformat": 4,
  "nbformat_minor": 0,
  "metadata": {
    "colab": {
      "provenance": [],
      "toc_visible": true,
      "authorship_tag": "ABX9TyOiQablaaJYANV/359/zWw3",
      "include_colab_link": true
    },
    "kernelspec": {
      "name": "python3",
      "display_name": "Python 3"
    },
    "language_info": {
      "name": "python"
    }
  },
  "cells": [
    {
      "cell_type": "markdown",
      "metadata": {
        "id": "view-in-github",
        "colab_type": "text"
      },
      "source": [
        "<a href=\"https://colab.research.google.com/github/ndsoi/DrawPixel/blob/main/Beyes.ipynb\" target=\"_parent\"><img src=\"https://colab.research.google.com/assets/colab-badge.svg\" alt=\"Open In Colab\"/></a>"
      ]
    },
    {
      "cell_type": "code",
      "execution_count": null,
      "metadata": {
        "id": "78i38OKAPqER"
      },
      "outputs": [],
      "source": [
        "# 第一部分：实现一个简易的朴素贝叶斯分类器\n"
      ]
    },
    {
      "cell_type": "markdown",
      "source": [
        "# 第一部分：实现一个简易的朴素贝叶斯分类器\n",
        "主要内容包括<br>\n",
        "1. 划分训练集和测试集\n",
        "2. 计算P(c)的函数\n",
        "3. 计算P(x_i|c)\n"
      ],
      "metadata": {
        "id": "ZGfcGunoP0fd"
      }
    },
    {
      "cell_type": "markdown",
      "source": [
        "## 原始数据"
      ],
      "metadata": {
        "id": "OR7sA981PrN0"
      }
    },
    {
      "cell_type": "code",
      "source": [
        "dataSet = [\n",
        "        # 1\n",
        "        ['青绿', '蜷缩', '浊响', '清晰', '凹陷', '硬滑', '好瓜'],\n",
        "        # 2\n",
        "        ['乌黑', '蜷缩', '沉闷', '清晰', '凹陷', '硬滑', '好瓜'],\n",
        "        # 3\n",
        "        ['乌黑', '蜷缩', '浊响', '清晰', '凹陷', '硬滑', '好瓜'],\n",
        "        # 4\n",
        "        ['青绿', '蜷缩', '沉闷', '清晰', '凹陷', '硬滑', '好瓜'],\n",
        "        # 5\n",
        "        ['浅白', '蜷缩', '浊响', '清晰', '凹陷', '硬滑', '好瓜'],\n",
        "        # 6\n",
        "        ['青绿', '稍蜷', '浊响', '清晰', '稍凹', '软粘', '好瓜'],\n",
        "        # 7\n",
        "        ['乌黑', '稍蜷', '浊响', '稍糊', '稍凹', '软粘', '好瓜'],\n",
        "        # 8\n",
        "        ['乌黑', '稍蜷', '浊响', '清晰', '稍凹', '硬滑', '好瓜'],\n",
        "\n",
        "        # ----------------------------------------------------\n",
        "        # 9\n",
        "        ['乌黑', '稍蜷', '沉闷', '稍糊', '稍凹', '硬滑', '坏瓜'],\n",
        "        # 10\n",
        "        ['青绿', '硬挺', '清脆', '清晰', '平坦', '软粘', '坏瓜'],\n",
        "        # 11\n",
        "        ['浅白', '硬挺', '清脆', '模糊', '平坦', '硬滑', '坏瓜'],\n",
        "        # 12\n",
        "        ['浅白', '蜷缩', '浊响', '模糊', '平坦', '软粘', '坏瓜'],\n",
        "        # 13\n",
        "        ['青绿', '稍蜷', '浊响', '稍糊', '凹陷', '硬滑', '坏瓜'],\n",
        "        # 14\n",
        "        ['浅白', '稍蜷', '沉闷', '稍糊', '凹陷', '硬滑', '坏瓜'],\n",
        "        # 15\n",
        "        ['乌黑', '稍蜷', '浊响', '清晰', '稍凹', '软粘', '坏瓜'],\n",
        "        # 16\n",
        "        ['浅白', '蜷缩', '浊响', '模糊', '平坦', '硬滑', '坏瓜'],\n",
        "        # 17\n",
        "        ['青绿', '蜷缩', '沉闷', '稍糊', '稍凹', '硬滑', '坏瓜']\n",
        "    ]\n",
        "Attr = ['色泽', '根蒂', '敲击', '纹理', '脐部', '触感','类别']\n",
        "\n",
        "# 将数据合并格式\n",
        "D = []\n",
        "for i in range(len(dataSet)):\n",
        "  d = {}\n",
        "  for j in range(len(Attr)):\n",
        "    d[Attr[j]] = dataSet[i][j]\n",
        "  D.append(d)"
      ],
      "metadata": {
        "id": "oWnXOm-APtwu"
      },
      "execution_count": 1,
      "outputs": []
    },
    {
      "cell_type": "markdown",
      "source": [
        "## 划分训练集和测试集"
      ],
      "metadata": {
        "id": "sKK0ypu7QnKY"
      }
    },
    {
      "cell_type": "code",
      "source": [
        "# 辅助函数：用于单行打印数据项\n",
        "def show(data):\n",
        "  for i in data:\n",
        "    print(i)"
      ],
      "metadata": {
        "id": "VRObngI_Sr7P"
      },
      "execution_count": 2,
      "outputs": []
    },
    {
      "cell_type": "code",
      "source": [
        "import numpy as np\n",
        "\n",
        "# 这里其实已经定了Pc了\n",
        "good_melon_nums = 5  # 抽取5个好瓜\n",
        "bad_melon_nums = 5  # 抽取5个坏瓜\n",
        "\n",
        "\n",
        "def divide_train_and_test(original_data):\n",
        "\n",
        "  good_index = np.arange(0, 8, 1, dtype=np.int16)\n",
        "  bad_index = np.arange(0,9,1,dtype=np.int16)\n",
        "  # 打乱\n",
        "  np.random.shuffle(good_index)\n",
        "  np.random.shuffle(bad_index)\n",
        "\n",
        "  print(f'好瓜的索引是:{good_index}')\n",
        "  print(f'坏瓜的索引是:{bad_index}')\n",
        "  # 按index中的索引,取good_melon_nums个好瓜和bad_melon_nums个坏瓜作为训练集\n",
        "  train_data = [ original_data[i] for i in good_index[:good_melon_nums] ] + [ original_data[i+8] for i in bad_index[:bad_melon_nums] ]\n",
        "  # 将剩余索引所代表的瓜分给测试集\n",
        "  test_data = [ original_data[i] for i in good_index[good_melon_nums:]] + [ original_data[i+8] for i in bad_index[bad_melon_nums:] ]\n",
        "\n",
        "  return train_data,test_data\n",
        "\n",
        "train_data,test_data = divide_train_and_test(D)\n",
        "show(train_data)\n",
        "show(test_data)"
      ],
      "metadata": {
        "colab": {
          "base_uri": "https://localhost:8080/"
        },
        "id": "GJLcg6EUQwF4",
        "outputId": "c821ca1e-d296-47a9-b9ac-93de25f3e9f1"
      },
      "execution_count": 3,
      "outputs": [
        {
          "output_type": "stream",
          "name": "stdout",
          "text": [
            "好瓜的索引是:[0 5 7 2 4 6 3 1]\n",
            "坏瓜的索引是:[5 1 2 8 7 4 3 0 6]\n",
            "{'色泽': '青绿', '根蒂': '蜷缩', '敲击': '浊响', '纹理': '清晰', '脐部': '凹陷', '触感': '硬滑', '类别': '好瓜'}\n",
            "{'色泽': '青绿', '根蒂': '稍蜷', '敲击': '浊响', '纹理': '清晰', '脐部': '稍凹', '触感': '软粘', '类别': '好瓜'}\n",
            "{'色泽': '乌黑', '根蒂': '稍蜷', '敲击': '浊响', '纹理': '清晰', '脐部': '稍凹', '触感': '硬滑', '类别': '好瓜'}\n",
            "{'色泽': '乌黑', '根蒂': '蜷缩', '敲击': '浊响', '纹理': '清晰', '脐部': '凹陷', '触感': '硬滑', '类别': '好瓜'}\n",
            "{'色泽': '浅白', '根蒂': '蜷缩', '敲击': '浊响', '纹理': '清晰', '脐部': '凹陷', '触感': '硬滑', '类别': '好瓜'}\n",
            "{'色泽': '浅白', '根蒂': '稍蜷', '敲击': '沉闷', '纹理': '稍糊', '脐部': '凹陷', '触感': '硬滑', '类别': '坏瓜'}\n",
            "{'色泽': '青绿', '根蒂': '硬挺', '敲击': '清脆', '纹理': '清晰', '脐部': '平坦', '触感': '软粘', '类别': '坏瓜'}\n",
            "{'色泽': '浅白', '根蒂': '硬挺', '敲击': '清脆', '纹理': '模糊', '脐部': '平坦', '触感': '硬滑', '类别': '坏瓜'}\n",
            "{'色泽': '青绿', '根蒂': '蜷缩', '敲击': '沉闷', '纹理': '稍糊', '脐部': '稍凹', '触感': '硬滑', '类别': '坏瓜'}\n",
            "{'色泽': '浅白', '根蒂': '蜷缩', '敲击': '浊响', '纹理': '模糊', '脐部': '平坦', '触感': '硬滑', '类别': '坏瓜'}\n",
            "{'色泽': '乌黑', '根蒂': '稍蜷', '敲击': '浊响', '纹理': '稍糊', '脐部': '稍凹', '触感': '软粘', '类别': '好瓜'}\n",
            "{'色泽': '青绿', '根蒂': '蜷缩', '敲击': '沉闷', '纹理': '清晰', '脐部': '凹陷', '触感': '硬滑', '类别': '好瓜'}\n",
            "{'色泽': '乌黑', '根蒂': '蜷缩', '敲击': '沉闷', '纹理': '清晰', '脐部': '凹陷', '触感': '硬滑', '类别': '好瓜'}\n",
            "{'色泽': '青绿', '根蒂': '稍蜷', '敲击': '浊响', '纹理': '稍糊', '脐部': '凹陷', '触感': '硬滑', '类别': '坏瓜'}\n",
            "{'色泽': '浅白', '根蒂': '蜷缩', '敲击': '浊响', '纹理': '模糊', '脐部': '平坦', '触感': '软粘', '类别': '坏瓜'}\n",
            "{'色泽': '乌黑', '根蒂': '稍蜷', '敲击': '沉闷', '纹理': '稍糊', '脐部': '稍凹', '触感': '硬滑', '类别': '坏瓜'}\n",
            "{'色泽': '乌黑', '根蒂': '稍蜷', '敲击': '浊响', '纹理': '清晰', '脐部': '稍凹', '触感': '软粘', '类别': '坏瓜'}\n"
          ]
        }
      ]
    },
    {
      "cell_type": "markdown",
      "source": [
        "## 计算 P(xi|c)\n"
      ],
      "metadata": {
        "id": "vlIY_WCeWO7u"
      }
    },
    {
      "cell_type": "markdown",
      "source": [
        "1. 离散属性\n",
        "$$p(x_i|c) = \\frac{|D_{c,x_i}|}{D_c}$$"
      ],
      "metadata": {
        "id": "TjZJIGYXWkOC"
      }
    },
    {
      "cell_type": "code",
      "source": [
        "# 离散属性的\n",
        "# 获取类别为c的数据列，用于计算多个属性的P(xi|c)\n",
        "def getDc(train_data,Class):\n",
        "  Dc = []\n",
        "  for melon in train_data:\n",
        "    if melon['类别'] == Class:\n",
        "      Dc.append(melon)\n",
        "  return Dc\n",
        "\n",
        "# 计算类别c中属性attr取值为value的样本概率\n",
        "def calP_xiForI(attr,value,Dc):\n",
        "  cnt = 0\n",
        "  for melon in Dc:\n",
        "    if melon[attr] == value:\n",
        "      cnt+=1\n",
        "  #print(f\"P(({attr}={value})|{melon['类别']})={cnt/len(Dc)}\")\n",
        "  return cnt/len(Dc)\n",
        "\n",
        ""
      ],
      "metadata": {
        "id": "7g6l6GRMWcg4"
      },
      "execution_count": 10,
      "outputs": []
    },
    {
      "cell_type": "markdown",
      "source": [
        "2、连续属性\n",
        "$$p(x_i|c) = \\frac{1}{\\sqrt{2\\pi\\sigma_{c,i}}}e^{(-\\frac{(x-\\mu_{c,i})^2}{2\\sigma^2_{c,i}})}$$\n",
        "对连续属性可考虑概率密度函数，假定p(xi|c)～N(μc,i)，其中\n",
        "$$\\mu_{c,i} = \\frac{1}{|D_{c,i}|}\\sum_{x_i\\epsilon D_c} x_i$$和$$σ_{c,i}^2 = \\frac{1}{|D_{c,i}|} \\sum_{x_i\\epsilon D_{c,i}}(x_i-\\mu _c)(x_i-\\mu _c)^T$$分别是第c类样本在第i个属性上取值的均值和方差\n"
      ],
      "metadata": {
        "id": "CWIEBbJ8pFet"
      }
    },
    {
      "cell_type": "code",
      "source": [
        "import math\n",
        "### 计算均值\n",
        "def calmu_c_i(Dc,attr):\n",
        "  mu = 0\n",
        "  for data in Dc:\n",
        "    mu += data[attr]\n",
        "  return mu/len(Dc)\n",
        "\n",
        "### 计算方差\n",
        "def cal_sigma_c_i(Dc,attr):\n",
        "  sigma = 0\n",
        "  mu = calmu_c_i(Dc,attr)\n",
        "  for data in Dc:\n",
        "    sigma+=(data[attr]-mu)*(data[attr]-mu)\n",
        "  return sigma/len(Dc)\n",
        "\n",
        "def calP_xiForC(attr,Dc,test):\n",
        "  sigma = cal_sigma_c_i(Dc,attr)\n",
        "  mu = calmu_c_i(Dc,attr)\n",
        "  tmp = -(test[attr]-mu)*(test[attr]-mu)/(2*sigma*sigma)\n",
        "  return 1/math.sqrt(2*math.pi*sigma)*math.exp(tmp)\n",
        ""
      ],
      "metadata": {
        "id": "HN15da6kpkNQ"
      },
      "execution_count": null,
      "outputs": []
    },
    {
      "cell_type": "markdown",
      "source": [
        "## 计算P(c)\n",
        "计算P(xi|c)的时候，求出了Dc,则$$p(x_i|c)=\\frac{|Dc|}{|D|}$$"
      ],
      "metadata": {
        "id": "-jRr06sPTZcB"
      }
    },
    {
      "cell_type": "markdown",
      "source": [
        "## 计算P(c|x)"
      ],
      "metadata": {
        "id": "xdw6XfZXYxKx"
      }
    },
    {
      "cell_type": "code",
      "source": [
        "def calPcx(train_data,Class,test,Attrs):\n",
        "  # 找出类别为Class的数据\n",
        "  Dc = getDc(train_data,Class)\n",
        "  Pc = len(Dc)/len(train_data)\n",
        " # print(f\"P({Class})={Pc}\")\n",
        "  ans = 1\n",
        "  for attr,value in test.items():\n",
        "    # 属性是离散的\n",
        "    if Attrs[attr] == 'i':\n",
        "      tmp = calP_xiForI(attr,value,Dc)\n",
        "    else:\n",
        "      tmp = calP_xiForC(attr,Dc,test)\n",
        "    # 属性是连续的\n",
        "    ans*= tmp\n",
        "\n",
        "  return ans*Pc\n"
      ],
      "metadata": {
        "id": "CAsiF1FUY2mM"
      },
      "execution_count": 11,
      "outputs": []
    },
    {
      "cell_type": "markdown",
      "source": [
        "## 分类样本\n",
        "根据P(c|x)大小判断样本x的类别"
      ],
      "metadata": {
        "id": "sUZKQxlxbkg8"
      }
    },
    {
      "cell_type": "code",
      "source": [
        "# 西瓜这里仅有两类别——好瓜/坏瓜\n",
        "def classify(train_data,test):\n",
        "  P_c1 = ['好瓜',calPcx(train_data,'好瓜',test)]\n",
        "  P_c2 = ['坏瓜',calPcx(train_data,'坏瓜',test)]\n",
        "  if P_c1[1]<P_c2[1]:\n",
        "    return P_c2\n",
        "  else:\n",
        "    return P_c1\n",
        "def predict(train_data,test_data):\n",
        "  res = []\n",
        "  for i in test_data:\n",
        "    res.append([i,classify(train_data,i)])\n",
        "  return res\n",
        "\n",
        "\n",
        "res = predict(train_data,test_data)\n",
        "show(res)"
      ],
      "metadata": {
        "colab": {
          "base_uri": "https://localhost:8080/"
        },
        "id": "G4xDtK1WbufG",
        "outputId": "c8b4fa7f-03e7-4ab9-99c9-28c183363725"
      },
      "execution_count": 12,
      "outputs": [
        {
          "output_type": "stream",
          "name": "stdout",
          "text": [
            "P(好瓜)=0.5\n",
            "P((色泽=乌黑)|好瓜)=0.4\n",
            "P((根蒂=稍蜷)|好瓜)=0.4\n",
            "P((敲击=浊响)|好瓜)=1.0\n",
            "P((纹理=稍糊)|好瓜)=0.0\n",
            "P((脐部=稍凹)|好瓜)=0.4\n",
            "P((触感=软粘)|好瓜)=0.2\n",
            "P((类别=好瓜)|好瓜)=1.0\n",
            "P(坏瓜)=0.5\n",
            "P((色泽=乌黑)|坏瓜)=0.0\n",
            "P((根蒂=稍蜷)|坏瓜)=0.2\n",
            "P((敲击=浊响)|坏瓜)=0.2\n",
            "P((纹理=稍糊)|坏瓜)=0.4\n",
            "P((脐部=稍凹)|坏瓜)=0.2\n",
            "P((触感=软粘)|坏瓜)=0.2\n",
            "P((类别=好瓜)|坏瓜)=0.0\n",
            "P(好瓜)=0.5\n",
            "P((色泽=青绿)|好瓜)=0.4\n",
            "P((根蒂=蜷缩)|好瓜)=0.6\n",
            "P((敲击=沉闷)|好瓜)=0.0\n",
            "P((纹理=清晰)|好瓜)=1.0\n",
            "P((脐部=凹陷)|好瓜)=0.6\n",
            "P((触感=硬滑)|好瓜)=0.8\n",
            "P((类别=好瓜)|好瓜)=1.0\n",
            "P(坏瓜)=0.5\n",
            "P((色泽=青绿)|坏瓜)=0.4\n",
            "P((根蒂=蜷缩)|坏瓜)=0.4\n",
            "P((敲击=沉闷)|坏瓜)=0.4\n",
            "P((纹理=清晰)|坏瓜)=0.2\n",
            "P((脐部=凹陷)|坏瓜)=0.2\n",
            "P((触感=硬滑)|坏瓜)=0.8\n",
            "P((类别=好瓜)|坏瓜)=0.0\n",
            "P(好瓜)=0.5\n",
            "P((色泽=乌黑)|好瓜)=0.4\n",
            "P((根蒂=蜷缩)|好瓜)=0.6\n",
            "P((敲击=沉闷)|好瓜)=0.0\n",
            "P((纹理=清晰)|好瓜)=1.0\n",
            "P((脐部=凹陷)|好瓜)=0.6\n",
            "P((触感=硬滑)|好瓜)=0.8\n",
            "P((类别=好瓜)|好瓜)=1.0\n",
            "P(坏瓜)=0.5\n",
            "P((色泽=乌黑)|坏瓜)=0.0\n",
            "P((根蒂=蜷缩)|坏瓜)=0.4\n",
            "P((敲击=沉闷)|坏瓜)=0.4\n",
            "P((纹理=清晰)|坏瓜)=0.2\n",
            "P((脐部=凹陷)|坏瓜)=0.2\n",
            "P((触感=硬滑)|坏瓜)=0.8\n",
            "P((类别=好瓜)|坏瓜)=0.0\n",
            "P(好瓜)=0.5\n",
            "P((色泽=青绿)|好瓜)=0.4\n",
            "P((根蒂=稍蜷)|好瓜)=0.4\n",
            "P((敲击=浊响)|好瓜)=1.0\n",
            "P((纹理=稍糊)|好瓜)=0.0\n",
            "P((脐部=凹陷)|好瓜)=0.6\n",
            "P((触感=硬滑)|好瓜)=0.8\n",
            "P((类别=坏瓜)|好瓜)=0.0\n",
            "P(坏瓜)=0.5\n",
            "P((色泽=青绿)|坏瓜)=0.4\n",
            "P((根蒂=稍蜷)|坏瓜)=0.2\n",
            "P((敲击=浊响)|坏瓜)=0.2\n",
            "P((纹理=稍糊)|坏瓜)=0.4\n",
            "P((脐部=凹陷)|坏瓜)=0.2\n",
            "P((触感=硬滑)|坏瓜)=0.8\n",
            "P((类别=坏瓜)|坏瓜)=1.0\n",
            "P(好瓜)=0.5\n",
            "P((色泽=浅白)|好瓜)=0.2\n",
            "P((根蒂=蜷缩)|好瓜)=0.6\n",
            "P((敲击=浊响)|好瓜)=1.0\n",
            "P((纹理=模糊)|好瓜)=0.0\n",
            "P((脐部=平坦)|好瓜)=0.0\n",
            "P((触感=软粘)|好瓜)=0.2\n",
            "P((类别=坏瓜)|好瓜)=0.0\n",
            "P(坏瓜)=0.5\n",
            "P((色泽=浅白)|坏瓜)=0.6\n",
            "P((根蒂=蜷缩)|坏瓜)=0.4\n",
            "P((敲击=浊响)|坏瓜)=0.2\n",
            "P((纹理=模糊)|坏瓜)=0.4\n",
            "P((脐部=平坦)|坏瓜)=0.6\n",
            "P((触感=软粘)|坏瓜)=0.2\n",
            "P((类别=坏瓜)|坏瓜)=1.0\n",
            "P(好瓜)=0.5\n",
            "P((色泽=乌黑)|好瓜)=0.4\n",
            "P((根蒂=稍蜷)|好瓜)=0.4\n",
            "P((敲击=沉闷)|好瓜)=0.0\n",
            "P((纹理=稍糊)|好瓜)=0.0\n",
            "P((脐部=稍凹)|好瓜)=0.4\n",
            "P((触感=硬滑)|好瓜)=0.8\n",
            "P((类别=坏瓜)|好瓜)=0.0\n",
            "P(坏瓜)=0.5\n",
            "P((色泽=乌黑)|坏瓜)=0.0\n",
            "P((根蒂=稍蜷)|坏瓜)=0.2\n",
            "P((敲击=沉闷)|坏瓜)=0.4\n",
            "P((纹理=稍糊)|坏瓜)=0.4\n",
            "P((脐部=稍凹)|坏瓜)=0.2\n",
            "P((触感=硬滑)|坏瓜)=0.8\n",
            "P((类别=坏瓜)|坏瓜)=1.0\n",
            "P(好瓜)=0.5\n",
            "P((色泽=乌黑)|好瓜)=0.4\n",
            "P((根蒂=稍蜷)|好瓜)=0.4\n",
            "P((敲击=浊响)|好瓜)=1.0\n",
            "P((纹理=清晰)|好瓜)=1.0\n",
            "P((脐部=稍凹)|好瓜)=0.4\n",
            "P((触感=软粘)|好瓜)=0.2\n",
            "P((类别=坏瓜)|好瓜)=0.0\n",
            "P(坏瓜)=0.5\n",
            "P((色泽=乌黑)|坏瓜)=0.0\n",
            "P((根蒂=稍蜷)|坏瓜)=0.2\n",
            "P((敲击=浊响)|坏瓜)=0.2\n",
            "P((纹理=清晰)|坏瓜)=0.2\n",
            "P((脐部=稍凹)|坏瓜)=0.2\n",
            "P((触感=软粘)|坏瓜)=0.2\n",
            "P((类别=坏瓜)|坏瓜)=1.0\n",
            "[{'色泽': '乌黑', '根蒂': '稍蜷', '敲击': '浊响', '纹理': '稍糊', '脐部': '稍凹', '触感': '软粘', '类别': '好瓜'}, ['好瓜', 0.0]]\n",
            "[{'色泽': '青绿', '根蒂': '蜷缩', '敲击': '沉闷', '纹理': '清晰', '脐部': '凹陷', '触感': '硬滑', '类别': '好瓜'}, ['好瓜', 0.0]]\n",
            "[{'色泽': '乌黑', '根蒂': '蜷缩', '敲击': '沉闷', '纹理': '清晰', '脐部': '凹陷', '触感': '硬滑', '类别': '好瓜'}, ['好瓜', 0.0]]\n",
            "[{'色泽': '青绿', '根蒂': '稍蜷', '敲击': '浊响', '纹理': '稍糊', '脐部': '凹陷', '触感': '硬滑', '类别': '坏瓜'}, ['坏瓜', 0.0005120000000000002]]\n",
            "[{'色泽': '浅白', '根蒂': '蜷缩', '敲击': '浊响', '纹理': '模糊', '脐部': '平坦', '触感': '软粘', '类别': '坏瓜'}, ['坏瓜', 0.001152]]\n",
            "[{'色泽': '乌黑', '根蒂': '稍蜷', '敲击': '沉闷', '纹理': '稍糊', '脐部': '稍凹', '触感': '硬滑', '类别': '坏瓜'}, ['好瓜', 0.0]]\n",
            "[{'色泽': '乌黑', '根蒂': '稍蜷', '敲击': '浊响', '纹理': '清晰', '脐部': '稍凹', '触感': '软粘', '类别': '坏瓜'}, ['好瓜', 0.0]]\n"
          ]
        }
      ]
    },
    {
      "cell_type": "markdown",
      "source": [
        "# 第二部分:拉普拉斯修正\n",
        "上述训练存在的问题是：<br>\n",
        "由于多属性之间假设为相互独立，概率值是连乘的形式，当有一个属性出现的概率为0的时候，会将其他属性的信息值“抹去”<br>\n",
        "修正方式是:<br>\n",
        "1. $$P(c) = \\frac{|Dc|+1}{|D|+N}$$\n",
        "2. $$P(c,i) = \\frac{|D_{c,i}|+1}{|D_c|+N_i}$$\n",
        "令N表示训练集D中可能的类别数，Ni表示第i个属性可能的取值数\n",
        "\n"
      ],
      "metadata": {
        "id": "NV38ctomf6IC"
      }
    },
    {
      "cell_type": "markdown",
      "source": [
        "## 计算 P(xi|c)\n"
      ],
      "metadata": {
        "id": "VhWMjT48lAXH"
      }
    },
    {
      "cell_type": "code",
      "source": [
        "def getNi(train_data,attr):\n",
        "  N_dict = {}\n",
        "  for data in train_data:\n",
        "    N_dict[data[attr]] = 1\n",
        "\n",
        "  return len(N_dict.keys())\n",
        "\n",
        "\n",
        "# 计算类别c中属性attr取值为value的样本概率\n",
        "def calP_xiForI_v2(attr,value,Dc):\n",
        "  cnt = 0\n",
        "  for melon in Dc:\n",
        "    if melon[attr] == value:\n",
        "      cnt+=1\n",
        "  #print(f\"P(({attr}={value})|{melon['类别']})={cnt/len(Dc)}\")\n",
        "  return (cnt+1)/(len(Dc)+getNi(train_data,attr))\n",
        "\n"
      ],
      "metadata": {
        "id": "3Y3oYWqalAXI"
      },
      "execution_count": 18,
      "outputs": []
    },
    {
      "cell_type": "markdown",
      "source": [
        "## 计算P(c|x)"
      ],
      "metadata": {
        "id": "RThCZntKknzG"
      }
    },
    {
      "cell_type": "code",
      "source": [
        "# 类别的种类数\n",
        "N = 2\n",
        "def calPcx_v2(train_data,Class,test):\n",
        "  # 找出类别为Class的数据\n",
        "  Dc = getDc(train_data,Class)\n",
        "  Pc = (len(Dc)+1)/(len(train_data)+N)\n",
        " # print(f\"P({Class})={Pc}\")\n",
        "  ans = 1\n",
        "  for attr,value in test.items():\n",
        "    tmp = calP_xiForI_v2(attr,value,Dc)\n",
        "    ans*= tmp\n",
        "\n",
        "  return ans*Pc\n"
      ],
      "metadata": {
        "id": "LvQMu5GTknzV"
      },
      "execution_count": 16,
      "outputs": []
    },
    {
      "cell_type": "code",
      "source": [
        "# 西瓜这里仅有两类别——好瓜/坏瓜\n",
        "def classify_v2(train_data,test):\n",
        "  P_c1 = ['好瓜',calPcx_v2(train_data,'好瓜',test)]\n",
        "  P_c2 = ['坏瓜',calPcx_v2(train_data,'坏瓜',test)]\n",
        "  if P_c1[1]<P_c2[1]:\n",
        "    return P_c2\n",
        "  else:\n",
        "    return P_c1\n",
        "def predict_v2(train_data,test_data):\n",
        "  res = []\n",
        "  for i in test_data:\n",
        "    res.append([i,classify_v2(train_data,i)])\n",
        "  return res\n",
        "\n",
        "\n",
        "res = predict_v2(train_data,test_data)\n",
        "show(res)\n",
        "\n",
        "# 相较未修正之前，正确率提高了50%"
      ],
      "metadata": {
        "colab": {
          "base_uri": "https://localhost:8080/"
        },
        "id": "ssZBKS6Ugje1",
        "outputId": "4485ac22-3a62-4bb5-fcc2-f9e45f44eb08"
      },
      "execution_count": 19,
      "outputs": [
        {
          "output_type": "stream",
          "name": "stdout",
          "text": [
            "[{'色泽': '乌黑', '根蒂': '稍蜷', '敲击': '浊响', '纹理': '稍糊', '脐部': '稍凹', '触感': '软粘', '类别': '好瓜'}, ['好瓜', 0.0006053691007653061]]\n",
            "[{'色泽': '青绿', '根蒂': '蜷缩', '敲击': '沉闷', '纹理': '清晰', '脐部': '凹陷', '触感': '硬滑', '类别': '好瓜'}, ['好瓜', 0.002690529336734694]]\n",
            "[{'色泽': '乌黑', '根蒂': '蜷缩', '敲击': '沉闷', '纹理': '清晰', '脐部': '凹陷', '触感': '硬滑', '类别': '好瓜'}, ['好瓜', 0.002690529336734694]]\n",
            "[{'色泽': '青绿', '根蒂': '稍蜷', '敲击': '浊响', '纹理': '稍糊', '脐部': '凹陷', '触感': '硬滑', '类别': '坏瓜'}, ['坏瓜', 0.0006726323341836735]]\n",
            "[{'色泽': '浅白', '根蒂': '蜷缩', '敲击': '浊响', '纹理': '模糊', '脐部': '平坦', '触感': '软粘', '类别': '坏瓜'}, ['坏瓜', 0.0010762117346938774]]\n",
            "[{'色泽': '乌黑', '根蒂': '稍蜷', '敲击': '沉闷', '纹理': '稍糊', '脐部': '稍凹', '触感': '硬滑', '类别': '坏瓜'}, ['坏瓜', 0.00033631616709183676]]\n",
            "[{'色泽': '乌黑', '根蒂': '稍蜷', '敲击': '浊响', '纹理': '清晰', '脐部': '稍凹', '触感': '软粘', '类别': '坏瓜'}, ['好瓜', 0.0006053691007653061]]\n"
          ]
        }
      ]
    }
  ]
}